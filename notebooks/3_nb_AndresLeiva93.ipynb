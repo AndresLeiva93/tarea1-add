{
 "cells": [
  {
   "cell_type": "code",
   "execution_count": 45,
   "metadata": {},
   "outputs": [],
   "source": [
    "import pandas as pd\n",
    "import numpy as np\n",
    "from datetime import datetime as dt"
   ]
  },
  {
   "cell_type": "code",
   "execution_count": 53,
   "metadata": {},
   "outputs": [],
   "source": [
    "df2019 = pd.read_csv('../data/interim/d2019.csv', encoding='latin1')\n",
    "df2020 = pd.read_csv('../data/interim/d2020.txt', encoding='latin1')"
   ]
  },
  {
   "cell_type": "code",
   "execution_count": 54,
   "metadata": {},
   "outputs": [],
   "source": [
    "df_sii = (pd.concat([df2019,df2020],axis=0)\n",
    "          .melt(id_vars=['Día','year']))"
   ]
  },
  {
   "cell_type": "code",
   "execution_count": 60,
   "metadata": {},
   "outputs": [
    {
     "data": {
      "text/html": [
       "<div>\n",
       "<style scoped>\n",
       "    .dataframe tbody tr th:only-of-type {\n",
       "        vertical-align: middle;\n",
       "    }\n",
       "\n",
       "    .dataframe tbody tr th {\n",
       "        vertical-align: top;\n",
       "    }\n",
       "\n",
       "    .dataframe thead th {\n",
       "        text-align: right;\n",
       "    }\n",
       "</style>\n",
       "<table border=\"1\" class=\"dataframe\">\n",
       "  <thead>\n",
       "    <tr style=\"text-align: right;\">\n",
       "      <th></th>\n",
       "      <th>year</th>\n",
       "      <th>mes</th>\n",
       "      <th>dia</th>\n",
       "      <th>valor</th>\n",
       "    </tr>\n",
       "  </thead>\n",
       "  <tbody>\n",
       "    <tr>\n",
       "      <th>0</th>\n",
       "      <td>2019</td>\n",
       "      <td>Ene</td>\n",
       "      <td>1</td>\n",
       "      <td>NaN</td>\n",
       "    </tr>\n",
       "    <tr>\n",
       "      <th>1</th>\n",
       "      <td>2019</td>\n",
       "      <td>Ene</td>\n",
       "      <td>2</td>\n",
       "      <td>694.77</td>\n",
       "    </tr>\n",
       "    <tr>\n",
       "      <th>2</th>\n",
       "      <td>2019</td>\n",
       "      <td>Ene</td>\n",
       "      <td>3</td>\n",
       "      <td>697.09</td>\n",
       "    </tr>\n",
       "    <tr>\n",
       "      <th>3</th>\n",
       "      <td>2019</td>\n",
       "      <td>Ene</td>\n",
       "      <td>4</td>\n",
       "      <td>697.64</td>\n",
       "    </tr>\n",
       "    <tr>\n",
       "      <th>4</th>\n",
       "      <td>2019</td>\n",
       "      <td>Ene</td>\n",
       "      <td>5</td>\n",
       "      <td>NaN</td>\n",
       "    </tr>\n",
       "    <tr>\n",
       "      <th>...</th>\n",
       "      <td>...</td>\n",
       "      <td>...</td>\n",
       "      <td>...</td>\n",
       "      <td>...</td>\n",
       "    </tr>\n",
       "    <tr>\n",
       "      <th>715</th>\n",
       "      <td>2020</td>\n",
       "      <td>Dic</td>\n",
       "      <td>26</td>\n",
       "      <td>NaN</td>\n",
       "    </tr>\n",
       "    <tr>\n",
       "      <th>716</th>\n",
       "      <td>2020</td>\n",
       "      <td>Dic</td>\n",
       "      <td>27</td>\n",
       "      <td>NaN</td>\n",
       "    </tr>\n",
       "    <tr>\n",
       "      <th>717</th>\n",
       "      <td>2020</td>\n",
       "      <td>Dic</td>\n",
       "      <td>28</td>\n",
       "      <td>710.26</td>\n",
       "    </tr>\n",
       "    <tr>\n",
       "      <th>718</th>\n",
       "      <td>2020</td>\n",
       "      <td>Dic</td>\n",
       "      <td>29</td>\n",
       "      <td>710.64</td>\n",
       "    </tr>\n",
       "    <tr>\n",
       "      <th>719</th>\n",
       "      <td>2020</td>\n",
       "      <td>Dic</td>\n",
       "      <td>30</td>\n",
       "      <td>711.24</td>\n",
       "    </tr>\n",
       "  </tbody>\n",
       "</table>\n",
       "<p>720 rows × 4 columns</p>\n",
       "</div>"
      ],
      "text/plain": [
       "     year  mes  dia   valor\n",
       "0    2019  Ene    1     NaN\n",
       "1    2019  Ene    2  694.77\n",
       "2    2019  Ene    3  697.09\n",
       "3    2019  Ene    4  697.64\n",
       "4    2019  Ene    5     NaN\n",
       "..    ...  ...  ...     ...\n",
       "715  2020  Dic   26     NaN\n",
       "716  2020  Dic   27     NaN\n",
       "717  2020  Dic   28  710.26\n",
       "718  2020  Dic   29  710.64\n",
       "719  2020  Dic   30  711.24\n",
       "\n",
       "[720 rows x 4 columns]"
      ]
     },
     "execution_count": 60,
     "metadata": {},
     "output_type": "execute_result"
    }
   ],
   "source": [
    "df_sii"
   ]
  },
  {
   "cell_type": "code",
   "execution_count": 57,
   "metadata": {},
   "outputs": [],
   "source": [
    "df_sii.columns = ['dia','year','mes','valor']"
   ]
  },
  {
   "cell_type": "code",
   "execution_count": 59,
   "metadata": {},
   "outputs": [],
   "source": [
    "df_sii = df_sii[['year','mes','dia','valor']]"
   ]
  },
  {
   "cell_type": "code",
   "execution_count": 61,
   "metadata": {},
   "outputs": [],
   "source": [
    "df_sii.to_csv(\"../data/interim/df_sii.csv\", encoding=\"latin1\",index=False)"
   ]
  },
  {
   "cell_type": "code",
   "execution_count": 62,
   "metadata": {},
   "outputs": [
    {
     "data": {
      "text/html": [
       "<div>\n",
       "<style scoped>\n",
       "    .dataframe tbody tr th:only-of-type {\n",
       "        vertical-align: middle;\n",
       "    }\n",
       "\n",
       "    .dataframe tbody tr th {\n",
       "        vertical-align: top;\n",
       "    }\n",
       "\n",
       "    .dataframe thead th {\n",
       "        text-align: right;\n",
       "    }\n",
       "</style>\n",
       "<table border=\"1\" class=\"dataframe\">\n",
       "  <thead>\n",
       "    <tr style=\"text-align: right;\">\n",
       "      <th></th>\n",
       "      <th>year</th>\n",
       "      <th>dia</th>\n",
       "      <th>valor</th>\n",
       "    </tr>\n",
       "    <tr>\n",
       "      <th>mes</th>\n",
       "      <th></th>\n",
       "      <th></th>\n",
       "      <th></th>\n",
       "    </tr>\n",
       "  </thead>\n",
       "  <tbody>\n",
       "    <tr>\n",
       "      <th>Abr</th>\n",
       "      <td>2019.5</td>\n",
       "      <td>15.5</td>\n",
       "      <td>760.389048</td>\n",
       "    </tr>\n",
       "    <tr>\n",
       "      <th>Ago</th>\n",
       "      <td>2019.5</td>\n",
       "      <td>15.5</td>\n",
       "      <td>748.432927</td>\n",
       "    </tr>\n",
       "    <tr>\n",
       "      <th>Dic</th>\n",
       "      <td>2019.5</td>\n",
       "      <td>15.5</td>\n",
       "      <td>752.561750</td>\n",
       "    </tr>\n",
       "    <tr>\n",
       "      <th>Ene</th>\n",
       "      <td>2019.5</td>\n",
       "      <td>15.5</td>\n",
       "      <td>724.497381</td>\n",
       "    </tr>\n",
       "    <tr>\n",
       "      <th>Feb</th>\n",
       "      <td>2019.5</td>\n",
       "      <td>15.5</td>\n",
       "      <td>726.342000</td>\n",
       "    </tr>\n",
       "    <tr>\n",
       "      <th>Jul</th>\n",
       "      <td>2019.5</td>\n",
       "      <td>15.5</td>\n",
       "      <td>735.783810</td>\n",
       "    </tr>\n",
       "    <tr>\n",
       "      <th>Jun</th>\n",
       "      <td>2019.5</td>\n",
       "      <td>15.5</td>\n",
       "      <td>744.299024</td>\n",
       "    </tr>\n",
       "    <tr>\n",
       "      <th>Mar</th>\n",
       "      <td>2019.5</td>\n",
       "      <td>15.5</td>\n",
       "      <td>753.362143</td>\n",
       "    </tr>\n",
       "    <tr>\n",
       "      <th>May</th>\n",
       "      <td>2019.5</td>\n",
       "      <td>15.5</td>\n",
       "      <td>754.833846</td>\n",
       "    </tr>\n",
       "    <tr>\n",
       "      <th>Nov</th>\n",
       "      <td>2019.5</td>\n",
       "      <td>15.5</td>\n",
       "      <td>769.540976</td>\n",
       "    </tr>\n",
       "    <tr>\n",
       "      <th>Oct</th>\n",
       "      <td>2019.5</td>\n",
       "      <td>15.5</td>\n",
       "      <td>753.867907</td>\n",
       "    </tr>\n",
       "    <tr>\n",
       "      <th>Sep</th>\n",
       "      <td>2019.5</td>\n",
       "      <td>15.5</td>\n",
       "      <td>748.036154</td>\n",
       "    </tr>\n",
       "  </tbody>\n",
       "</table>\n",
       "</div>"
      ],
      "text/plain": [
       "       year   dia       valor\n",
       "mes                          \n",
       "Abr  2019.5  15.5  760.389048\n",
       "Ago  2019.5  15.5  748.432927\n",
       "Dic  2019.5  15.5  752.561750\n",
       "Ene  2019.5  15.5  724.497381\n",
       "Feb  2019.5  15.5  726.342000\n",
       "Jul  2019.5  15.5  735.783810\n",
       "Jun  2019.5  15.5  744.299024\n",
       "Mar  2019.5  15.5  753.362143\n",
       "May  2019.5  15.5  754.833846\n",
       "Nov  2019.5  15.5  769.540976\n",
       "Oct  2019.5  15.5  753.867907\n",
       "Sep  2019.5  15.5  748.036154"
      ]
     },
     "execution_count": 62,
     "metadata": {},
     "output_type": "execute_result"
    }
   ],
   "source": [
    "df_sii.groupby('mes',as_index=True).mean()"
   ]
  },
  {
   "cell_type": "code",
   "execution_count": 66,
   "metadata": {},
   "outputs": [
    {
     "data": {
      "text/html": [
       "<div>\n",
       "<style scoped>\n",
       "    .dataframe tbody tr th:only-of-type {\n",
       "        vertical-align: middle;\n",
       "    }\n",
       "\n",
       "    .dataframe tbody tr th {\n",
       "        vertical-align: top;\n",
       "    }\n",
       "\n",
       "    .dataframe thead th {\n",
       "        text-align: right;\n",
       "    }\n",
       "</style>\n",
       "<table border=\"1\" class=\"dataframe\">\n",
       "  <thead>\n",
       "    <tr style=\"text-align: right;\">\n",
       "      <th></th>\n",
       "      <th>year</th>\n",
       "      <th>mes</th>\n",
       "      <th>dia</th>\n",
       "      <th>valor</th>\n",
       "    </tr>\n",
       "  </thead>\n",
       "  <tbody>\n",
       "    <tr>\n",
       "      <th>0</th>\n",
       "      <td>2019</td>\n",
       "      <td>Abr</td>\n",
       "      <td>15.5</td>\n",
       "      <td>667.399048</td>\n",
       "    </tr>\n",
       "    <tr>\n",
       "      <th>1</th>\n",
       "      <td>2019</td>\n",
       "      <td>Ago</td>\n",
       "      <td>15.5</td>\n",
       "      <td>713.703333</td>\n",
       "    </tr>\n",
       "    <tr>\n",
       "      <th>2</th>\n",
       "      <td>2019</td>\n",
       "      <td>Dic</td>\n",
       "      <td>15.5</td>\n",
       "      <td>770.390500</td>\n",
       "    </tr>\n",
       "    <tr>\n",
       "      <th>3</th>\n",
       "      <td>2019</td>\n",
       "      <td>Ene</td>\n",
       "      <td>15.5</td>\n",
       "      <td>677.552381</td>\n",
       "    </tr>\n",
       "    <tr>\n",
       "      <th>4</th>\n",
       "      <td>2019</td>\n",
       "      <td>Feb</td>\n",
       "      <td>15.5</td>\n",
       "      <td>656.304500</td>\n",
       "    </tr>\n",
       "    <tr>\n",
       "      <th>5</th>\n",
       "      <td>2019</td>\n",
       "      <td>Jul</td>\n",
       "      <td>15.5</td>\n",
       "      <td>685.396667</td>\n",
       "    </tr>\n",
       "    <tr>\n",
       "      <th>6</th>\n",
       "      <td>2019</td>\n",
       "      <td>Jun</td>\n",
       "      <td>15.5</td>\n",
       "      <td>692.409000</td>\n",
       "    </tr>\n",
       "    <tr>\n",
       "      <th>7</th>\n",
       "      <td>2019</td>\n",
       "      <td>Mar</td>\n",
       "      <td>15.5</td>\n",
       "      <td>667.678571</td>\n",
       "    </tr>\n",
       "    <tr>\n",
       "      <th>8</th>\n",
       "      <td>2019</td>\n",
       "      <td>May</td>\n",
       "      <td>15.5</td>\n",
       "      <td>691.211000</td>\n",
       "    </tr>\n",
       "    <tr>\n",
       "      <th>9</th>\n",
       "      <td>2019</td>\n",
       "      <td>Nov</td>\n",
       "      <td>15.5</td>\n",
       "      <td>776.530000</td>\n",
       "    </tr>\n",
       "    <tr>\n",
       "      <th>10</th>\n",
       "      <td>2019</td>\n",
       "      <td>Oct</td>\n",
       "      <td>15.5</td>\n",
       "      <td>721.032273</td>\n",
       "    </tr>\n",
       "    <tr>\n",
       "      <th>11</th>\n",
       "      <td>2019</td>\n",
       "      <td>Sep</td>\n",
       "      <td>15.5</td>\n",
       "      <td>718.442222</td>\n",
       "    </tr>\n",
       "    <tr>\n",
       "      <th>12</th>\n",
       "      <td>2020</td>\n",
       "      <td>Abr</td>\n",
       "      <td>15.5</td>\n",
       "      <td>853.379048</td>\n",
       "    </tr>\n",
       "    <tr>\n",
       "      <th>13</th>\n",
       "      <td>2020</td>\n",
       "      <td>Ago</td>\n",
       "      <td>15.5</td>\n",
       "      <td>784.899000</td>\n",
       "    </tr>\n",
       "    <tr>\n",
       "      <th>14</th>\n",
       "      <td>2020</td>\n",
       "      <td>Dic</td>\n",
       "      <td>15.5</td>\n",
       "      <td>734.733000</td>\n",
       "    </tr>\n",
       "    <tr>\n",
       "      <th>15</th>\n",
       "      <td>2020</td>\n",
       "      <td>Ene</td>\n",
       "      <td>15.5</td>\n",
       "      <td>771.442381</td>\n",
       "    </tr>\n",
       "    <tr>\n",
       "      <th>16</th>\n",
       "      <td>2020</td>\n",
       "      <td>Feb</td>\n",
       "      <td>15.5</td>\n",
       "      <td>796.379500</td>\n",
       "    </tr>\n",
       "    <tr>\n",
       "      <th>17</th>\n",
       "      <td>2020</td>\n",
       "      <td>Jul</td>\n",
       "      <td>15.5</td>\n",
       "      <td>786.170952</td>\n",
       "    </tr>\n",
       "    <tr>\n",
       "      <th>18</th>\n",
       "      <td>2020</td>\n",
       "      <td>Jun</td>\n",
       "      <td>15.5</td>\n",
       "      <td>793.718095</td>\n",
       "    </tr>\n",
       "    <tr>\n",
       "      <th>19</th>\n",
       "      <td>2020</td>\n",
       "      <td>Mar</td>\n",
       "      <td>15.5</td>\n",
       "      <td>839.045714</td>\n",
       "    </tr>\n",
       "    <tr>\n",
       "      <th>20</th>\n",
       "      <td>2020</td>\n",
       "      <td>May</td>\n",
       "      <td>15.5</td>\n",
       "      <td>821.805263</td>\n",
       "    </tr>\n",
       "    <tr>\n",
       "      <th>21</th>\n",
       "      <td>2020</td>\n",
       "      <td>Nov</td>\n",
       "      <td>15.5</td>\n",
       "      <td>762.884762</td>\n",
       "    </tr>\n",
       "    <tr>\n",
       "      <th>22</th>\n",
       "      <td>2020</td>\n",
       "      <td>Oct</td>\n",
       "      <td>15.5</td>\n",
       "      <td>788.267143</td>\n",
       "    </tr>\n",
       "    <tr>\n",
       "      <th>23</th>\n",
       "      <td>2020</td>\n",
       "      <td>Sep</td>\n",
       "      <td>15.5</td>\n",
       "      <td>773.402381</td>\n",
       "    </tr>\n",
       "  </tbody>\n",
       "</table>\n",
       "</div>"
      ],
      "text/plain": [
       "    year  mes   dia       valor\n",
       "0   2019  Abr  15.5  667.399048\n",
       "1   2019  Ago  15.5  713.703333\n",
       "2   2019  Dic  15.5  770.390500\n",
       "3   2019  Ene  15.5  677.552381\n",
       "4   2019  Feb  15.5  656.304500\n",
       "5   2019  Jul  15.5  685.396667\n",
       "6   2019  Jun  15.5  692.409000\n",
       "7   2019  Mar  15.5  667.678571\n",
       "8   2019  May  15.5  691.211000\n",
       "9   2019  Nov  15.5  776.530000\n",
       "10  2019  Oct  15.5  721.032273\n",
       "11  2019  Sep  15.5  718.442222\n",
       "12  2020  Abr  15.5  853.379048\n",
       "13  2020  Ago  15.5  784.899000\n",
       "14  2020  Dic  15.5  734.733000\n",
       "15  2020  Ene  15.5  771.442381\n",
       "16  2020  Feb  15.5  796.379500\n",
       "17  2020  Jul  15.5  786.170952\n",
       "18  2020  Jun  15.5  793.718095\n",
       "19  2020  Mar  15.5  839.045714\n",
       "20  2020  May  15.5  821.805263\n",
       "21  2020  Nov  15.5  762.884762\n",
       "22  2020  Oct  15.5  788.267143\n",
       "23  2020  Sep  15.5  773.402381"
      ]
     },
     "execution_count": 66,
     "metadata": {},
     "output_type": "execute_result"
    }
   ],
   "source": [
    "df_sii.groupby(['year','mes'],as_index=False).mean()"
   ]
  },
  {
   "cell_type": "markdown",
   "metadata": {},
   "source": [
    "Al usar as_index = estamos agrupando los indices, en caso contrario se repiten."
   ]
  },
  {
   "cell_type": "code",
   "execution_count": null,
   "metadata": {},
   "outputs": [],
   "source": [
    "df_\n",
    "for fila in df_sii:\n",
    "    df_sii['fecha']"
   ]
  },
  {
   "cell_type": "code",
   "execution_count": 102,
   "metadata": {},
   "outputs": [
    {
     "data": {
      "text/plain": [
       "('2019', 'Ene', '1')"
      ]
     },
     "execution_count": 102,
     "metadata": {},
     "output_type": "execute_result"
    }
   ],
   "source": [
    "dt.strftime(str(df_sii['year'][0]),'/',df_sii['mes'][0],'/',str(df_sii['dia'][0]),'%Y/%m/%Y')"
   ]
  },
  {
   "cell_type": "code",
   "execution_count": 104,
   "metadata": {},
   "outputs": [
    {
     "data": {
      "text/plain": [
       "'2019/Ene/1'"
      ]
     },
     "execution_count": 104,
     "metadata": {},
     "output_type": "execute_result"
    }
   ],
   "source": [
    "str(df_sii['year'][0])+'/'+df_sii['mes'][0]+'/'+str(df_sii['dia'][0])"
   ]
  },
  {
   "cell_type": "code",
   "execution_count": 99,
   "metadata": {},
   "outputs": [
    {
     "data": {
      "text/plain": [
       "3"
      ]
     },
     "execution_count": 99,
     "metadata": {},
     "output_type": "execute_result"
    }
   ],
   "source": [
    "df_sii['dia'][2]"
   ]
  },
  {
   "cell_type": "code",
   "execution_count": 87,
   "metadata": {},
   "outputs": [
    {
     "data": {
      "text/plain": [
       "'2019'"
      ]
     },
     "execution_count": 87,
     "metadata": {},
     "output_type": "execute_result"
    }
   ],
   "source": [
    "str(df_sii['year'][0])"
   ]
  },
  {
   "cell_type": "code",
   "execution_count": 82,
   "metadata": {},
   "outputs": [],
   "source": []
  },
  {
   "cell_type": "code",
   "execution_count": 86,
   "metadata": {},
   "outputs": [
    {
     "data": {
      "text/plain": [
       "'Friday'"
      ]
     },
     "execution_count": 86,
     "metadata": {},
     "output_type": "execute_result"
    }
   ],
   "source": [
    "dt.now().strftime('%A')"
   ]
  }
 ],
 "metadata": {
  "kernelspec": {
   "display_name": "Python 3",
   "language": "python",
   "name": "python3"
  },
  "language_info": {
   "codemirror_mode": {
    "name": "ipython",
    "version": 3
   },
   "file_extension": ".py",
   "mimetype": "text/x-python",
   "name": "python",
   "nbconvert_exporter": "python",
   "pygments_lexer": "ipython3",
   "version": "3.7.4"
  }
 },
 "nbformat": 4,
 "nbformat_minor": 2
}
